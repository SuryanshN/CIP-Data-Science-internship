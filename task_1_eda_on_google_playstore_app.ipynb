{
 "cells": [
  {
   "cell_type": "code",
   "execution_count": 1,
   "id": "520c6e60-1027-41a1-8385-a7b3e9f4555c",
   "metadata": {},
   "outputs": [],
   "source": [
    "import pandas as pd\n",
    "import numpy as np\n",
    "import matplotlib.pyplot as plt\n",
    "import seaborn as sns\n",
    "%matplotlib inline\n",
    "import warnings\n",
    "warnings.filterwarnings('ignore')"
   ]
  },
  {
   "cell_type": "code",
   "execution_count": 2,
   "id": "66d40caf-188a-412b-94ea-822b3e17a850",
   "metadata": {},
   "outputs": [],
   "source": [
    "df=pd.read_csv('googleplaystore.csv.zip')"
   ]
  },
  {
   "cell_type": "code",
   "execution_count": 3,
   "id": "c5e55b7a-1681-4ae1-b6f8-11c5e1bd2afc",
   "metadata": {},
   "outputs": [
    {
     "data": {
      "text/html": [
       "<div>\n",
       "<style scoped>\n",
       "    .dataframe tbody tr th:only-of-type {\n",
       "        vertical-align: middle;\n",
       "    }\n",
       "\n",
       "    .dataframe tbody tr th {\n",
       "        vertical-align: top;\n",
       "    }\n",
       "\n",
       "    .dataframe thead th {\n",
       "        text-align: right;\n",
       "    }\n",
       "</style>\n",
       "<table border=\"1\" class=\"dataframe\">\n",
       "  <thead>\n",
       "    <tr style=\"text-align: right;\">\n",
       "      <th></th>\n",
       "      <th>App</th>\n",
       "      <th>Category</th>\n",
       "      <th>Rating</th>\n",
       "      <th>Reviews</th>\n",
       "      <th>Size</th>\n",
       "      <th>Installs</th>\n",
       "      <th>Type</th>\n",
       "      <th>Price</th>\n",
       "      <th>Content Rating</th>\n",
       "      <th>Genres</th>\n",
       "      <th>Last Updated</th>\n",
       "      <th>Current Ver</th>\n",
       "      <th>Android Ver</th>\n",
       "    </tr>\n",
       "  </thead>\n",
       "  <tbody>\n",
       "    <tr>\n",
       "      <th>0</th>\n",
       "      <td>Photo Editor &amp; Candy Camera &amp; Grid &amp; ScrapBook</td>\n",
       "      <td>ART_AND_DESIGN</td>\n",
       "      <td>4.1</td>\n",
       "      <td>159</td>\n",
       "      <td>19M</td>\n",
       "      <td>10,000+</td>\n",
       "      <td>Free</td>\n",
       "      <td>0</td>\n",
       "      <td>Everyone</td>\n",
       "      <td>Art &amp; Design</td>\n",
       "      <td>January 7, 2018</td>\n",
       "      <td>1.0.0</td>\n",
       "      <td>4.0.3 and up</td>\n",
       "    </tr>\n",
       "    <tr>\n",
       "      <th>1</th>\n",
       "      <td>Coloring book moana</td>\n",
       "      <td>ART_AND_DESIGN</td>\n",
       "      <td>3.9</td>\n",
       "      <td>967</td>\n",
       "      <td>14M</td>\n",
       "      <td>500,000+</td>\n",
       "      <td>Free</td>\n",
       "      <td>0</td>\n",
       "      <td>Everyone</td>\n",
       "      <td>Art &amp; Design;Pretend Play</td>\n",
       "      <td>January 15, 2018</td>\n",
       "      <td>2.0.0</td>\n",
       "      <td>4.0.3 and up</td>\n",
       "    </tr>\n",
       "    <tr>\n",
       "      <th>2</th>\n",
       "      <td>U Launcher Lite – FREE Live Cool Themes, Hide ...</td>\n",
       "      <td>ART_AND_DESIGN</td>\n",
       "      <td>4.7</td>\n",
       "      <td>87510</td>\n",
       "      <td>8.7M</td>\n",
       "      <td>5,000,000+</td>\n",
       "      <td>Free</td>\n",
       "      <td>0</td>\n",
       "      <td>Everyone</td>\n",
       "      <td>Art &amp; Design</td>\n",
       "      <td>August 1, 2018</td>\n",
       "      <td>1.2.4</td>\n",
       "      <td>4.0.3 and up</td>\n",
       "    </tr>\n",
       "    <tr>\n",
       "      <th>3</th>\n",
       "      <td>Sketch - Draw &amp; Paint</td>\n",
       "      <td>ART_AND_DESIGN</td>\n",
       "      <td>4.5</td>\n",
       "      <td>215644</td>\n",
       "      <td>25M</td>\n",
       "      <td>50,000,000+</td>\n",
       "      <td>Free</td>\n",
       "      <td>0</td>\n",
       "      <td>Teen</td>\n",
       "      <td>Art &amp; Design</td>\n",
       "      <td>June 8, 2018</td>\n",
       "      <td>Varies with device</td>\n",
       "      <td>4.2 and up</td>\n",
       "    </tr>\n",
       "    <tr>\n",
       "      <th>4</th>\n",
       "      <td>Pixel Draw - Number Art Coloring Book</td>\n",
       "      <td>ART_AND_DESIGN</td>\n",
       "      <td>4.3</td>\n",
       "      <td>967</td>\n",
       "      <td>2.8M</td>\n",
       "      <td>100,000+</td>\n",
       "      <td>Free</td>\n",
       "      <td>0</td>\n",
       "      <td>Everyone</td>\n",
       "      <td>Art &amp; Design;Creativity</td>\n",
       "      <td>June 20, 2018</td>\n",
       "      <td>1.1</td>\n",
       "      <td>4.4 and up</td>\n",
       "    </tr>\n",
       "  </tbody>\n",
       "</table>\n",
       "</div>"
      ],
      "text/plain": [
       "                                                 App        Category  Rating  \\\n",
       "0     Photo Editor & Candy Camera & Grid & ScrapBook  ART_AND_DESIGN     4.1   \n",
       "1                                Coloring book moana  ART_AND_DESIGN     3.9   \n",
       "2  U Launcher Lite – FREE Live Cool Themes, Hide ...  ART_AND_DESIGN     4.7   \n",
       "3                              Sketch - Draw & Paint  ART_AND_DESIGN     4.5   \n",
       "4              Pixel Draw - Number Art Coloring Book  ART_AND_DESIGN     4.3   \n",
       "\n",
       "  Reviews  Size     Installs  Type Price Content Rating  \\\n",
       "0     159   19M      10,000+  Free     0       Everyone   \n",
       "1     967   14M     500,000+  Free     0       Everyone   \n",
       "2   87510  8.7M   5,000,000+  Free     0       Everyone   \n",
       "3  215644   25M  50,000,000+  Free     0           Teen   \n",
       "4     967  2.8M     100,000+  Free     0       Everyone   \n",
       "\n",
       "                      Genres      Last Updated         Current Ver  \\\n",
       "0               Art & Design   January 7, 2018               1.0.0   \n",
       "1  Art & Design;Pretend Play  January 15, 2018               2.0.0   \n",
       "2               Art & Design    August 1, 2018               1.2.4   \n",
       "3               Art & Design      June 8, 2018  Varies with device   \n",
       "4    Art & Design;Creativity     June 20, 2018                 1.1   \n",
       "\n",
       "    Android Ver  \n",
       "0  4.0.3 and up  \n",
       "1  4.0.3 and up  \n",
       "2  4.0.3 and up  \n",
       "3    4.2 and up  \n",
       "4    4.4 and up  "
      ]
     },
     "execution_count": 3,
     "metadata": {},
     "output_type": "execute_result"
    }
   ],
   "source": [
    "df.head()"
   ]
  },
  {
   "cell_type": "code",
   "execution_count": 4,
   "id": "ff4c17bd-256e-4f01-b1bd-c47cb077d931",
   "metadata": {},
   "outputs": [
    {
     "name": "stdout",
     "output_type": "stream",
     "text": [
      "<class 'pandas.core.frame.DataFrame'>\n",
      "RangeIndex: 10841 entries, 0 to 10840\n",
      "Data columns (total 13 columns):\n",
      " #   Column          Non-Null Count  Dtype  \n",
      "---  ------          --------------  -----  \n",
      " 0   App             10841 non-null  object \n",
      " 1   Category        10841 non-null  object \n",
      " 2   Rating          9367 non-null   float64\n",
      " 3   Reviews         10841 non-null  object \n",
      " 4   Size            10841 non-null  object \n",
      " 5   Installs        10841 non-null  object \n",
      " 6   Type            10840 non-null  object \n",
      " 7   Price           10841 non-null  object \n",
      " 8   Content Rating  10840 non-null  object \n",
      " 9   Genres          10841 non-null  object \n",
      " 10  Last Updated    10841 non-null  object \n",
      " 11  Current Ver     10833 non-null  object \n",
      " 12  Android Ver     10838 non-null  object \n",
      "dtypes: float64(1), object(12)\n",
      "memory usage: 1.1+ MB\n"
     ]
    }
   ],
   "source": [
    "df.info()"
   ]
  },
  {
   "cell_type": "code",
   "execution_count": 5,
   "id": "d337ddac-cfe2-4c5d-a54e-9db67d50a88e",
   "metadata": {},
   "outputs": [
    {
     "data": {
      "text/html": [
       "<div>\n",
       "<style scoped>\n",
       "    .dataframe tbody tr th:only-of-type {\n",
       "        vertical-align: middle;\n",
       "    }\n",
       "\n",
       "    .dataframe tbody tr th {\n",
       "        vertical-align: top;\n",
       "    }\n",
       "\n",
       "    .dataframe thead th {\n",
       "        text-align: right;\n",
       "    }\n",
       "</style>\n",
       "<table border=\"1\" class=\"dataframe\">\n",
       "  <thead>\n",
       "    <tr style=\"text-align: right;\">\n",
       "      <th></th>\n",
       "      <th>Rating</th>\n",
       "    </tr>\n",
       "  </thead>\n",
       "  <tbody>\n",
       "    <tr>\n",
       "      <th>count</th>\n",
       "      <td>9367.000000</td>\n",
       "    </tr>\n",
       "    <tr>\n",
       "      <th>mean</th>\n",
       "      <td>4.193338</td>\n",
       "    </tr>\n",
       "    <tr>\n",
       "      <th>std</th>\n",
       "      <td>0.537431</td>\n",
       "    </tr>\n",
       "    <tr>\n",
       "      <th>min</th>\n",
       "      <td>1.000000</td>\n",
       "    </tr>\n",
       "    <tr>\n",
       "      <th>25%</th>\n",
       "      <td>4.000000</td>\n",
       "    </tr>\n",
       "    <tr>\n",
       "      <th>50%</th>\n",
       "      <td>4.300000</td>\n",
       "    </tr>\n",
       "    <tr>\n",
       "      <th>75%</th>\n",
       "      <td>4.500000</td>\n",
       "    </tr>\n",
       "    <tr>\n",
       "      <th>max</th>\n",
       "      <td>19.000000</td>\n",
       "    </tr>\n",
       "  </tbody>\n",
       "</table>\n",
       "</div>"
      ],
      "text/plain": [
       "            Rating\n",
       "count  9367.000000\n",
       "mean      4.193338\n",
       "std       0.537431\n",
       "min       1.000000\n",
       "25%       4.000000\n",
       "50%       4.300000\n",
       "75%       4.500000\n",
       "max      19.000000"
      ]
     },
     "execution_count": 5,
     "metadata": {},
     "output_type": "execute_result"
    }
   ],
   "source": [
    "df.describe()"
   ]
  },
  {
   "cell_type": "code",
   "execution_count": 6,
   "id": "7b915c67-86e9-4e89-9c91-41477f1555d1",
   "metadata": {},
   "outputs": [
    {
     "data": {
      "text/plain": [
       "(10841, 13)"
      ]
     },
     "execution_count": 6,
     "metadata": {},
     "output_type": "execute_result"
    }
   ],
   "source": [
    "df.shape"
   ]
  },
  {
   "cell_type": "code",
   "execution_count": 7,
   "id": "824ccd26-ab72-4b1d-a2ee-0a6e3abc081a",
   "metadata": {},
   "outputs": [
    {
     "data": {
      "text/plain": [
       "App                  0\n",
       "Category             0\n",
       "Rating            1474\n",
       "Reviews              0\n",
       "Size                 0\n",
       "Installs             0\n",
       "Type                 1\n",
       "Price                0\n",
       "Content Rating       1\n",
       "Genres               0\n",
       "Last Updated         0\n",
       "Current Ver          8\n",
       "Android Ver          3\n",
       "dtype: int64"
      ]
     },
     "execution_count": 7,
     "metadata": {},
     "output_type": "execute_result"
    }
   ],
   "source": [
    "df.isnull().sum()"
   ]
  },
  {
   "cell_type": "markdown",
   "id": "588e68bf-b9f1-41f8-b646-0f6601b540a2",
   "metadata": {},
   "source": [
    "## insights and observations\n",
    "## dataset has missing values"
   ]
  },
  {
   "cell_type": "code",
   "execution_count": 8,
   "id": "b7366444-4116-42ed-b866-04ef7732d52e",
   "metadata": {},
   "outputs": [
    {
     "data": {
      "text/html": [
       "<div>\n",
       "<style scoped>\n",
       "    .dataframe tbody tr th:only-of-type {\n",
       "        vertical-align: middle;\n",
       "    }\n",
       "\n",
       "    .dataframe tbody tr th {\n",
       "        vertical-align: top;\n",
       "    }\n",
       "\n",
       "    .dataframe thead th {\n",
       "        text-align: right;\n",
       "    }\n",
       "</style>\n",
       "<table border=\"1\" class=\"dataframe\">\n",
       "  <thead>\n",
       "    <tr style=\"text-align: right;\">\n",
       "      <th></th>\n",
       "      <th>App</th>\n",
       "      <th>Category</th>\n",
       "      <th>Rating</th>\n",
       "      <th>Reviews</th>\n",
       "      <th>Size</th>\n",
       "      <th>Installs</th>\n",
       "      <th>Type</th>\n",
       "      <th>Price</th>\n",
       "      <th>Content Rating</th>\n",
       "      <th>Genres</th>\n",
       "      <th>Last Updated</th>\n",
       "      <th>Current Ver</th>\n",
       "      <th>Android Ver</th>\n",
       "    </tr>\n",
       "  </thead>\n",
       "  <tbody>\n",
       "    <tr>\n",
       "      <th>0</th>\n",
       "      <td>Photo Editor &amp; Candy Camera &amp; Grid &amp; ScrapBook</td>\n",
       "      <td>ART_AND_DESIGN</td>\n",
       "      <td>4.1</td>\n",
       "      <td>159</td>\n",
       "      <td>19M</td>\n",
       "      <td>10,000+</td>\n",
       "      <td>Free</td>\n",
       "      <td>0</td>\n",
       "      <td>Everyone</td>\n",
       "      <td>Art &amp; Design</td>\n",
       "      <td>January 7, 2018</td>\n",
       "      <td>1.0.0</td>\n",
       "      <td>4.0.3 and up</td>\n",
       "    </tr>\n",
       "    <tr>\n",
       "      <th>1</th>\n",
       "      <td>Coloring book moana</td>\n",
       "      <td>ART_AND_DESIGN</td>\n",
       "      <td>3.9</td>\n",
       "      <td>967</td>\n",
       "      <td>14M</td>\n",
       "      <td>500,000+</td>\n",
       "      <td>Free</td>\n",
       "      <td>0</td>\n",
       "      <td>Everyone</td>\n",
       "      <td>Art &amp; Design;Pretend Play</td>\n",
       "      <td>January 15, 2018</td>\n",
       "      <td>2.0.0</td>\n",
       "      <td>4.0.3 and up</td>\n",
       "    </tr>\n",
       "  </tbody>\n",
       "</table>\n",
       "</div>"
      ],
      "text/plain": [
       "                                              App        Category  Rating  \\\n",
       "0  Photo Editor & Candy Camera & Grid & ScrapBook  ART_AND_DESIGN     4.1   \n",
       "1                             Coloring book moana  ART_AND_DESIGN     3.9   \n",
       "\n",
       "  Reviews Size  Installs  Type Price Content Rating  \\\n",
       "0     159  19M   10,000+  Free     0       Everyone   \n",
       "1     967  14M  500,000+  Free     0       Everyone   \n",
       "\n",
       "                      Genres      Last Updated Current Ver   Android Ver  \n",
       "0               Art & Design   January 7, 2018       1.0.0  4.0.3 and up  \n",
       "1  Art & Design;Pretend Play  January 15, 2018       2.0.0  4.0.3 and up  "
      ]
     },
     "execution_count": 8,
     "metadata": {},
     "output_type": "execute_result"
    }
   ],
   "source": [
    "df.head(2)"
   ]
  },
  {
   "cell_type": "markdown",
   "id": "a975981e-ada1-4332-a2be-894abdd07f4b",
   "metadata": {},
   "source": [
    " ## Data Cleaning"
   ]
  },
  {
   "cell_type": "code",
   "execution_count": 9,
   "id": "04fc7a1f-3640-438a-9b7c-32931b457684",
   "metadata": {},
   "outputs": [
    {
     "data": {
      "text/plain": [
       "array(['159', '967', '87510', ..., '603', '1195', '398307'], dtype=object)"
      ]
     },
     "execution_count": 9,
     "metadata": {},
     "output_type": "execute_result"
    }
   ],
   "source": [
    "df['Reviews'].unique()"
   ]
  },
  {
   "cell_type": "code",
   "execution_count": 10,
   "id": "71740d9d-c901-4056-8247-d4dbf4f84111",
   "metadata": {},
   "outputs": [
    {
     "data": {
      "text/plain": [
       "10840"
      ]
     },
     "execution_count": 10,
     "metadata": {},
     "output_type": "execute_result"
    }
   ],
   "source": [
    "df['Reviews'].str.isnumeric().sum()"
   ]
  },
  {
   "cell_type": "code",
   "execution_count": 11,
   "id": "47b20e1d-a134-4b96-9f37-be83efe7379f",
   "metadata": {},
   "outputs": [
    {
     "data": {
      "text/html": [
       "<div>\n",
       "<style scoped>\n",
       "    .dataframe tbody tr th:only-of-type {\n",
       "        vertical-align: middle;\n",
       "    }\n",
       "\n",
       "    .dataframe tbody tr th {\n",
       "        vertical-align: top;\n",
       "    }\n",
       "\n",
       "    .dataframe thead th {\n",
       "        text-align: right;\n",
       "    }\n",
       "</style>\n",
       "<table border=\"1\" class=\"dataframe\">\n",
       "  <thead>\n",
       "    <tr style=\"text-align: right;\">\n",
       "      <th></th>\n",
       "      <th>App</th>\n",
       "      <th>Category</th>\n",
       "      <th>Rating</th>\n",
       "      <th>Reviews</th>\n",
       "      <th>Size</th>\n",
       "      <th>Installs</th>\n",
       "      <th>Type</th>\n",
       "      <th>Price</th>\n",
       "      <th>Content Rating</th>\n",
       "      <th>Genres</th>\n",
       "      <th>Last Updated</th>\n",
       "      <th>Current Ver</th>\n",
       "      <th>Android Ver</th>\n",
       "    </tr>\n",
       "  </thead>\n",
       "  <tbody>\n",
       "    <tr>\n",
       "      <th>10472</th>\n",
       "      <td>Life Made WI-Fi Touchscreen Photo Frame</td>\n",
       "      <td>1.9</td>\n",
       "      <td>19.0</td>\n",
       "      <td>3.0M</td>\n",
       "      <td>1,000+</td>\n",
       "      <td>Free</td>\n",
       "      <td>0</td>\n",
       "      <td>Everyone</td>\n",
       "      <td>NaN</td>\n",
       "      <td>February 11, 2018</td>\n",
       "      <td>1.0.19</td>\n",
       "      <td>4.0 and up</td>\n",
       "      <td>NaN</td>\n",
       "    </tr>\n",
       "  </tbody>\n",
       "</table>\n",
       "</div>"
      ],
      "text/plain": [
       "                                           App Category  Rating Reviews  \\\n",
       "10472  Life Made WI-Fi Touchscreen Photo Frame      1.9    19.0    3.0M   \n",
       "\n",
       "         Size Installs Type     Price Content Rating             Genres  \\\n",
       "10472  1,000+     Free    0  Everyone            NaN  February 11, 2018   \n",
       "\n",
       "      Last Updated Current Ver Android Ver  \n",
       "10472       1.0.19  4.0 and up         NaN  "
      ]
     },
     "execution_count": 11,
     "metadata": {},
     "output_type": "execute_result"
    }
   ],
   "source": [
    "df[~df['Reviews'].str.isnumeric()]"
   ]
  },
  {
   "cell_type": "code",
   "execution_count": 12,
   "id": "1b505aed-4208-400b-81fd-e98ce3541e23",
   "metadata": {},
   "outputs": [],
   "source": [
    "df1=df.copy()"
   ]
  },
  {
   "cell_type": "code",
   "execution_count": 13,
   "id": "0334755f-a420-4ecb-b86d-2cb1cba3567d",
   "metadata": {},
   "outputs": [],
   "source": [
    "df1=df1.drop(df1.index[10472])"
   ]
  },
  {
   "cell_type": "code",
   "execution_count": 14,
   "id": "87e25054-a55a-476f-84a3-6c191615921a",
   "metadata": {},
   "outputs": [
    {
     "data": {
      "text/html": [
       "<div>\n",
       "<style scoped>\n",
       "    .dataframe tbody tr th:only-of-type {\n",
       "        vertical-align: middle;\n",
       "    }\n",
       "\n",
       "    .dataframe tbody tr th {\n",
       "        vertical-align: top;\n",
       "    }\n",
       "\n",
       "    .dataframe thead th {\n",
       "        text-align: right;\n",
       "    }\n",
       "</style>\n",
       "<table border=\"1\" class=\"dataframe\">\n",
       "  <thead>\n",
       "    <tr style=\"text-align: right;\">\n",
       "      <th></th>\n",
       "      <th>App</th>\n",
       "      <th>Category</th>\n",
       "      <th>Rating</th>\n",
       "      <th>Reviews</th>\n",
       "      <th>Size</th>\n",
       "      <th>Installs</th>\n",
       "      <th>Type</th>\n",
       "      <th>Price</th>\n",
       "      <th>Content Rating</th>\n",
       "      <th>Genres</th>\n",
       "      <th>Last Updated</th>\n",
       "      <th>Current Ver</th>\n",
       "      <th>Android Ver</th>\n",
       "    </tr>\n",
       "  </thead>\n",
       "  <tbody>\n",
       "  </tbody>\n",
       "</table>\n",
       "</div>"
      ],
      "text/plain": [
       "Empty DataFrame\n",
       "Columns: [App, Category, Rating, Reviews, Size, Installs, Type, Price, Content Rating, Genres, Last Updated, Current Ver, Android Ver]\n",
       "Index: []"
      ]
     },
     "execution_count": 14,
     "metadata": {},
     "output_type": "execute_result"
    }
   ],
   "source": [
    "df1[~df1['Reviews'].str.isnumeric()]"
   ]
  },
  {
   "cell_type": "code",
   "execution_count": 15,
   "id": "13dc7997-87dc-4154-95a7-224a58f30f44",
   "metadata": {},
   "outputs": [],
   "source": [
    "df1['Reviews']=df1['Reviews'].astype(int)\n"
   ]
  },
  {
   "cell_type": "code",
   "execution_count": 16,
   "id": "6c12e7aa-c51a-4f6c-bc0c-605cee56e41c",
   "metadata": {},
   "outputs": [
    {
     "name": "stdout",
     "output_type": "stream",
     "text": [
      "<class 'pandas.core.frame.DataFrame'>\n",
      "Int64Index: 10840 entries, 0 to 10840\n",
      "Data columns (total 13 columns):\n",
      " #   Column          Non-Null Count  Dtype  \n",
      "---  ------          --------------  -----  \n",
      " 0   App             10840 non-null  object \n",
      " 1   Category        10840 non-null  object \n",
      " 2   Rating          9366 non-null   float64\n",
      " 3   Reviews         10840 non-null  int64  \n",
      " 4   Size            10840 non-null  object \n",
      " 5   Installs        10840 non-null  object \n",
      " 6   Type            10839 non-null  object \n",
      " 7   Price           10840 non-null  object \n",
      " 8   Content Rating  10840 non-null  object \n",
      " 9   Genres          10840 non-null  object \n",
      " 10  Last Updated    10840 non-null  object \n",
      " 11  Current Ver     10832 non-null  object \n",
      " 12  Android Ver     10838 non-null  object \n",
      "dtypes: float64(1), int64(1), object(11)\n",
      "memory usage: 1.2+ MB\n"
     ]
    }
   ],
   "source": [
    "df1.info()"
   ]
  },
  {
   "cell_type": "code",
   "execution_count": 17,
   "id": "9bee50ef-a79d-44a7-81c2-2aa5e404ef80",
   "metadata": {},
   "outputs": [
    {
     "data": {
      "text/plain": [
       "array(['19M', '14M', '8.7M', '25M', '2.8M', '5.6M', '29M', '33M', '3.1M',\n",
       "       '28M', '12M', '20M', '21M', '37M', '2.7M', '5.5M', '17M', '39M',\n",
       "       '31M', '4.2M', '7.0M', '23M', '6.0M', '6.1M', '4.6M', '9.2M',\n",
       "       '5.2M', '11M', '24M', 'Varies with device', '9.4M', '15M', '10M',\n",
       "       '1.2M', '26M', '8.0M', '7.9M', '56M', '57M', '35M', '54M', '201k',\n",
       "       '3.6M', '5.7M', '8.6M', '2.4M', '27M', '2.5M', '16M', '3.4M',\n",
       "       '8.9M', '3.9M', '2.9M', '38M', '32M', '5.4M', '18M', '1.1M',\n",
       "       '2.2M', '4.5M', '9.8M', '52M', '9.0M', '6.7M', '30M', '2.6M',\n",
       "       '7.1M', '3.7M', '22M', '7.4M', '6.4M', '3.2M', '8.2M', '9.9M',\n",
       "       '4.9M', '9.5M', '5.0M', '5.9M', '13M', '73M', '6.8M', '3.5M',\n",
       "       '4.0M', '2.3M', '7.2M', '2.1M', '42M', '7.3M', '9.1M', '55M',\n",
       "       '23k', '6.5M', '1.5M', '7.5M', '51M', '41M', '48M', '8.5M', '46M',\n",
       "       '8.3M', '4.3M', '4.7M', '3.3M', '40M', '7.8M', '8.8M', '6.6M',\n",
       "       '5.1M', '61M', '66M', '79k', '8.4M', '118k', '44M', '695k', '1.6M',\n",
       "       '6.2M', '18k', '53M', '1.4M', '3.0M', '5.8M', '3.8M', '9.6M',\n",
       "       '45M', '63M', '49M', '77M', '4.4M', '4.8M', '70M', '6.9M', '9.3M',\n",
       "       '10.0M', '8.1M', '36M', '84M', '97M', '2.0M', '1.9M', '1.8M',\n",
       "       '5.3M', '47M', '556k', '526k', '76M', '7.6M', '59M', '9.7M', '78M',\n",
       "       '72M', '43M', '7.7M', '6.3M', '334k', '34M', '93M', '65M', '79M',\n",
       "       '100M', '58M', '50M', '68M', '64M', '67M', '60M', '94M', '232k',\n",
       "       '99M', '624k', '95M', '8.5k', '41k', '292k', '11k', '80M', '1.7M',\n",
       "       '74M', '62M', '69M', '75M', '98M', '85M', '82M', '96M', '87M',\n",
       "       '71M', '86M', '91M', '81M', '92M', '83M', '88M', '704k', '862k',\n",
       "       '899k', '378k', '266k', '375k', '1.3M', '975k', '980k', '4.1M',\n",
       "       '89M', '696k', '544k', '525k', '920k', '779k', '853k', '720k',\n",
       "       '713k', '772k', '318k', '58k', '241k', '196k', '857k', '51k',\n",
       "       '953k', '865k', '251k', '930k', '540k', '313k', '746k', '203k',\n",
       "       '26k', '314k', '239k', '371k', '220k', '730k', '756k', '91k',\n",
       "       '293k', '17k', '74k', '14k', '317k', '78k', '924k', '902k', '818k',\n",
       "       '81k', '939k', '169k', '45k', '475k', '965k', '90M', '545k', '61k',\n",
       "       '283k', '655k', '714k', '93k', '872k', '121k', '322k', '1.0M',\n",
       "       '976k', '172k', '238k', '549k', '206k', '954k', '444k', '717k',\n",
       "       '210k', '609k', '308k', '705k', '306k', '904k', '473k', '175k',\n",
       "       '350k', '383k', '454k', '421k', '70k', '812k', '442k', '842k',\n",
       "       '417k', '412k', '459k', '478k', '335k', '782k', '721k', '430k',\n",
       "       '429k', '192k', '200k', '460k', '728k', '496k', '816k', '414k',\n",
       "       '506k', '887k', '613k', '243k', '569k', '778k', '683k', '592k',\n",
       "       '319k', '186k', '840k', '647k', '191k', '373k', '437k', '598k',\n",
       "       '716k', '585k', '982k', '222k', '219k', '55k', '948k', '323k',\n",
       "       '691k', '511k', '951k', '963k', '25k', '554k', '351k', '27k',\n",
       "       '82k', '208k', '913k', '514k', '551k', '29k', '103k', '898k',\n",
       "       '743k', '116k', '153k', '209k', '353k', '499k', '173k', '597k',\n",
       "       '809k', '122k', '411k', '400k', '801k', '787k', '237k', '50k',\n",
       "       '643k', '986k', '97k', '516k', '837k', '780k', '961k', '269k',\n",
       "       '20k', '498k', '600k', '749k', '642k', '881k', '72k', '656k',\n",
       "       '601k', '221k', '228k', '108k', '940k', '176k', '33k', '663k',\n",
       "       '34k', '942k', '259k', '164k', '458k', '245k', '629k', '28k',\n",
       "       '288k', '775k', '785k', '636k', '916k', '994k', '309k', '485k',\n",
       "       '914k', '903k', '608k', '500k', '54k', '562k', '847k', '957k',\n",
       "       '688k', '811k', '270k', '48k', '329k', '523k', '921k', '874k',\n",
       "       '981k', '784k', '280k', '24k', '518k', '754k', '892k', '154k',\n",
       "       '860k', '364k', '387k', '626k', '161k', '879k', '39k', '970k',\n",
       "       '170k', '141k', '160k', '144k', '143k', '190k', '376k', '193k',\n",
       "       '246k', '73k', '658k', '992k', '253k', '420k', '404k', '470k',\n",
       "       '226k', '240k', '89k', '234k', '257k', '861k', '467k', '157k',\n",
       "       '44k', '676k', '67k', '552k', '885k', '1020k', '582k', '619k'],\n",
       "      dtype=object)"
      ]
     },
     "execution_count": 17,
     "metadata": {},
     "output_type": "execute_result"
    }
   ],
   "source": [
    "df1['Size'].unique()"
   ]
  },
  {
   "cell_type": "code",
   "execution_count": 18,
   "id": "52e3b544-5896-41d3-88bd-767b770da77e",
   "metadata": {},
   "outputs": [
    {
     "data": {
      "text/plain": [
       "0"
      ]
     },
     "execution_count": 18,
     "metadata": {},
     "output_type": "execute_result"
    }
   ],
   "source": [
    "df1['Size'].isnull().sum()"
   ]
  },
  {
   "cell_type": "code",
   "execution_count": 19,
   "id": "932f65d0-0a55-4e5c-8268-2c7ef95cf133",
   "metadata": {},
   "outputs": [],
   "source": [
    "df1['Size']=df['Size'].str.replace('M','000')"
   ]
  },
  {
   "cell_type": "code",
   "execution_count": 20,
   "id": "8ec252db-d54e-4997-aa22-7ae44cb9a0f9",
   "metadata": {},
   "outputs": [],
   "source": [
    "df1['Size']=df1['Size'].str.replace('k','')\n",
    "df1['Size']=df1['Size'].replace('Varies with device',np.nan)\n"
   ]
  },
  {
   "cell_type": "code",
   "execution_count": 21,
   "id": "3aedf3b6-a8c4-4734-b4b2-6090c0594ace",
   "metadata": {},
   "outputs": [],
   "source": [
    "df1['Size']=df1['Size'].astype(float)"
   ]
  },
  {
   "cell_type": "code",
   "execution_count": 22,
   "id": "370c074f-0f84-49c5-ab93-857be6b0f771",
   "metadata": {},
   "outputs": [
    {
     "data": {
      "text/plain": [
       "0        19000.0\n",
       "1        14000.0\n",
       "2            8.7\n",
       "3        25000.0\n",
       "4            2.8\n",
       "          ...   \n",
       "10836    53000.0\n",
       "10837        3.6\n",
       "10838        9.5\n",
       "10839        NaN\n",
       "10840    19000.0\n",
       "Name: Size, Length: 10840, dtype: float64"
      ]
     },
     "execution_count": 22,
     "metadata": {},
     "output_type": "execute_result"
    }
   ],
   "source": [
    "df1['Size']"
   ]
  },
  {
   "cell_type": "code",
   "execution_count": 23,
   "id": "8e7abe03-6a05-423c-88ca-908f225d1a3a",
   "metadata": {},
   "outputs": [
    {
     "data": {
      "text/plain": [
       "array(['10,000+', '500,000+', '5,000,000+', '50,000,000+', '100,000+',\n",
       "       '50,000+', '1,000,000+', '10,000,000+', '5,000+', '100,000,000+',\n",
       "       '1,000,000,000+', '1,000+', '500,000,000+', '50+', '100+', '500+',\n",
       "       '10+', '1+', '5+', '0+', '0'], dtype=object)"
      ]
     },
     "execution_count": 23,
     "metadata": {},
     "output_type": "execute_result"
    }
   ],
   "source": [
    "df1['Installs'].unique()"
   ]
  },
  {
   "cell_type": "code",
   "execution_count": 24,
   "id": "031c8b11-c064-4e29-adad-e2ea81150a76",
   "metadata": {},
   "outputs": [
    {
     "data": {
      "text/plain": [
       "array(['0', '$4.99', '$3.99', '$6.99', '$1.49', '$2.99', '$7.99', '$5.99',\n",
       "       '$3.49', '$1.99', '$9.99', '$7.49', '$0.99', '$9.00', '$5.49',\n",
       "       '$10.00', '$24.99', '$11.99', '$79.99', '$16.99', '$14.99',\n",
       "       '$1.00', '$29.99', '$12.99', '$2.49', '$10.99', '$1.50', '$19.99',\n",
       "       '$15.99', '$33.99', '$74.99', '$39.99', '$3.95', '$4.49', '$1.70',\n",
       "       '$8.99', '$2.00', '$3.88', '$25.99', '$399.99', '$17.99',\n",
       "       '$400.00', '$3.02', '$1.76', '$4.84', '$4.77', '$1.61', '$2.50',\n",
       "       '$1.59', '$6.49', '$1.29', '$5.00', '$13.99', '$299.99', '$379.99',\n",
       "       '$37.99', '$18.99', '$389.99', '$19.90', '$8.49', '$1.75',\n",
       "       '$14.00', '$4.85', '$46.99', '$109.99', '$154.99', '$3.08',\n",
       "       '$2.59', '$4.80', '$1.96', '$19.40', '$3.90', '$4.59', '$15.46',\n",
       "       '$3.04', '$4.29', '$2.60', '$3.28', '$4.60', '$28.99', '$2.95',\n",
       "       '$2.90', '$1.97', '$200.00', '$89.99', '$2.56', '$30.99', '$3.61',\n",
       "       '$394.99', '$1.26', '$1.20', '$1.04'], dtype=object)"
      ]
     },
     "execution_count": 24,
     "metadata": {},
     "output_type": "execute_result"
    }
   ],
   "source": [
    "df1['Price'].unique()"
   ]
  },
  {
   "cell_type": "code",
   "execution_count": 25,
   "id": "7199be84-d65d-443c-941d-4ba752fdea19",
   "metadata": {},
   "outputs": [],
   "source": [
    "char_t_oremove=['+',',','$']\n",
    "char_to_clean=['Price','Installs']\n"
   ]
  },
  {
   "cell_type": "code",
   "execution_count": 26,
   "id": "55548b8b-7b35-4d52-9af2-cfec42609ddf",
   "metadata": {},
   "outputs": [],
   "source": [
    "for i in char_t_oremove:\n",
    "    for j in char_to_clean:\n",
    "        df1[j]=df1[j].str.replace(i,'')"
   ]
  },
  {
   "cell_type": "code",
   "execution_count": 27,
   "id": "641c1560-1a75-43b6-b945-0060fb712b67",
   "metadata": {},
   "outputs": [
    {
     "data": {
      "text/plain": [
       "array(['0', '4.99', '3.99', '6.99', '1.49', '2.99', '7.99', '5.99',\n",
       "       '3.49', '1.99', '9.99', '7.49', '0.99', '9.00', '5.49', '10.00',\n",
       "       '24.99', '11.99', '79.99', '16.99', '14.99', '1.00', '29.99',\n",
       "       '12.99', '2.49', '10.99', '1.50', '19.99', '15.99', '33.99',\n",
       "       '74.99', '39.99', '3.95', '4.49', '1.70', '8.99', '2.00', '3.88',\n",
       "       '25.99', '399.99', '17.99', '400.00', '3.02', '1.76', '4.84',\n",
       "       '4.77', '1.61', '2.50', '1.59', '6.49', '1.29', '5.00', '13.99',\n",
       "       '299.99', '379.99', '37.99', '18.99', '389.99', '19.90', '8.49',\n",
       "       '1.75', '14.00', '4.85', '46.99', '109.99', '154.99', '3.08',\n",
       "       '2.59', '4.80', '1.96', '19.40', '3.90', '4.59', '15.46', '3.04',\n",
       "       '4.29', '2.60', '3.28', '4.60', '28.99', '2.95', '2.90', '1.97',\n",
       "       '200.00', '89.99', '2.56', '30.99', '3.61', '394.99', '1.26',\n",
       "       '1.20', '1.04'], dtype=object)"
      ]
     },
     "execution_count": 27,
     "metadata": {},
     "output_type": "execute_result"
    }
   ],
   "source": [
    "df1['Price'].unique()\n"
   ]
  },
  {
   "cell_type": "code",
   "execution_count": 28,
   "id": "78b6793e-74db-4932-8bb8-1244686d7941",
   "metadata": {},
   "outputs": [
    {
     "data": {
      "text/plain": [
       "array(['10000', '500000', '5000000', '50000000', '100000', '50000',\n",
       "       '1000000', '10000000', '5000', '100000000', '1000000000', '1000',\n",
       "       '500000000', '50', '100', '500', '10', '1', '5', '0'], dtype=object)"
      ]
     },
     "execution_count": 28,
     "metadata": {},
     "output_type": "execute_result"
    }
   ],
   "source": [
    "df1['Installs'].unique()"
   ]
  },
  {
   "cell_type": "code",
   "execution_count": 29,
   "id": "31077329-1260-47c6-b608-ca37768b0d12",
   "metadata": {},
   "outputs": [],
   "source": [
    "df1['Installs']=df1['Installs'].astype(int)\n"
   ]
  },
  {
   "cell_type": "code",
   "execution_count": 30,
   "id": "6262619f-8fc5-4def-861a-4ed27420c70e",
   "metadata": {},
   "outputs": [],
   "source": [
    "df1['Price']=df1['Price'].astype(float)"
   ]
  },
  {
   "cell_type": "code",
   "execution_count": 31,
   "id": "ecdd0509-ec20-47bc-8058-dc2d175e580d",
   "metadata": {},
   "outputs": [
    {
     "name": "stdout",
     "output_type": "stream",
     "text": [
      "<class 'pandas.core.frame.DataFrame'>\n",
      "Int64Index: 10840 entries, 0 to 10840\n",
      "Data columns (total 13 columns):\n",
      " #   Column          Non-Null Count  Dtype  \n",
      "---  ------          --------------  -----  \n",
      " 0   App             10840 non-null  object \n",
      " 1   Category        10840 non-null  object \n",
      " 2   Rating          9366 non-null   float64\n",
      " 3   Reviews         10840 non-null  int64  \n",
      " 4   Size            9145 non-null   float64\n",
      " 5   Installs        10840 non-null  int64  \n",
      " 6   Type            10839 non-null  object \n",
      " 7   Price           10840 non-null  float64\n",
      " 8   Content Rating  10840 non-null  object \n",
      " 9   Genres          10840 non-null  object \n",
      " 10  Last Updated    10840 non-null  object \n",
      " 11  Current Ver     10832 non-null  object \n",
      " 12  Android Ver     10838 non-null  object \n",
      "dtypes: float64(3), int64(2), object(8)\n",
      "memory usage: 1.2+ MB\n"
     ]
    }
   ],
   "source": [
    "df1.info()\n"
   ]
  },
  {
   "cell_type": "code",
   "execution_count": 32,
   "id": "ed4f7f7f-4cb2-4e30-a766-eb8b1de4f5ae",
   "metadata": {},
   "outputs": [],
   "source": [
    "df1['Size']=df1['Size'].astype(float)"
   ]
  },
  {
   "cell_type": "code",
   "execution_count": 33,
   "id": "911ebe84-5cba-465c-aa1f-df95561f31ec",
   "metadata": {},
   "outputs": [
    {
     "data": {
      "text/plain": [
       "App                object\n",
       "Category           object\n",
       "Rating            float64\n",
       "Reviews             int64\n",
       "Size              float64\n",
       "Installs            int64\n",
       "Type               object\n",
       "Price             float64\n",
       "Content Rating     object\n",
       "Genres             object\n",
       "Last Updated       object\n",
       "Current Ver        object\n",
       "Android Ver        object\n",
       "dtype: object"
      ]
     },
     "execution_count": 33,
     "metadata": {},
     "output_type": "execute_result"
    }
   ],
   "source": [
    "df1.dtypes"
   ]
  },
  {
   "cell_type": "code",
   "execution_count": 34,
   "id": "cf8639b7-c5ec-4944-8920-5db74f430719",
   "metadata": {},
   "outputs": [
    {
     "data": {
      "text/html": [
       "<div>\n",
       "<style scoped>\n",
       "    .dataframe tbody tr th:only-of-type {\n",
       "        vertical-align: middle;\n",
       "    }\n",
       "\n",
       "    .dataframe tbody tr th {\n",
       "        vertical-align: top;\n",
       "    }\n",
       "\n",
       "    .dataframe thead th {\n",
       "        text-align: right;\n",
       "    }\n",
       "</style>\n",
       "<table border=\"1\" class=\"dataframe\">\n",
       "  <thead>\n",
       "    <tr style=\"text-align: right;\">\n",
       "      <th></th>\n",
       "      <th>App</th>\n",
       "      <th>Category</th>\n",
       "      <th>Rating</th>\n",
       "      <th>Reviews</th>\n",
       "      <th>Size</th>\n",
       "      <th>Installs</th>\n",
       "      <th>Type</th>\n",
       "      <th>Price</th>\n",
       "      <th>Content Rating</th>\n",
       "      <th>Genres</th>\n",
       "      <th>Last Updated</th>\n",
       "      <th>Current Ver</th>\n",
       "      <th>Android Ver</th>\n",
       "    </tr>\n",
       "  </thead>\n",
       "  <tbody>\n",
       "    <tr>\n",
       "      <th>0</th>\n",
       "      <td>Photo Editor &amp; Candy Camera &amp; Grid &amp; ScrapBook</td>\n",
       "      <td>ART_AND_DESIGN</td>\n",
       "      <td>4.1</td>\n",
       "      <td>159</td>\n",
       "      <td>19000.0</td>\n",
       "      <td>10000</td>\n",
       "      <td>Free</td>\n",
       "      <td>0.0</td>\n",
       "      <td>Everyone</td>\n",
       "      <td>Art &amp; Design</td>\n",
       "      <td>January 7, 2018</td>\n",
       "      <td>1.0.0</td>\n",
       "      <td>4.0.3 and up</td>\n",
       "    </tr>\n",
       "    <tr>\n",
       "      <th>1</th>\n",
       "      <td>Coloring book moana</td>\n",
       "      <td>ART_AND_DESIGN</td>\n",
       "      <td>3.9</td>\n",
       "      <td>967</td>\n",
       "      <td>14000.0</td>\n",
       "      <td>500000</td>\n",
       "      <td>Free</td>\n",
       "      <td>0.0</td>\n",
       "      <td>Everyone</td>\n",
       "      <td>Art &amp; Design;Pretend Play</td>\n",
       "      <td>January 15, 2018</td>\n",
       "      <td>2.0.0</td>\n",
       "      <td>4.0.3 and up</td>\n",
       "    </tr>\n",
       "    <tr>\n",
       "      <th>2</th>\n",
       "      <td>U Launcher Lite – FREE Live Cool Themes, Hide ...</td>\n",
       "      <td>ART_AND_DESIGN</td>\n",
       "      <td>4.7</td>\n",
       "      <td>87510</td>\n",
       "      <td>8.7</td>\n",
       "      <td>5000000</td>\n",
       "      <td>Free</td>\n",
       "      <td>0.0</td>\n",
       "      <td>Everyone</td>\n",
       "      <td>Art &amp; Design</td>\n",
       "      <td>August 1, 2018</td>\n",
       "      <td>1.2.4</td>\n",
       "      <td>4.0.3 and up</td>\n",
       "    </tr>\n",
       "    <tr>\n",
       "      <th>3</th>\n",
       "      <td>Sketch - Draw &amp; Paint</td>\n",
       "      <td>ART_AND_DESIGN</td>\n",
       "      <td>4.5</td>\n",
       "      <td>215644</td>\n",
       "      <td>25000.0</td>\n",
       "      <td>50000000</td>\n",
       "      <td>Free</td>\n",
       "      <td>0.0</td>\n",
       "      <td>Teen</td>\n",
       "      <td>Art &amp; Design</td>\n",
       "      <td>June 8, 2018</td>\n",
       "      <td>Varies with device</td>\n",
       "      <td>4.2 and up</td>\n",
       "    </tr>\n",
       "    <tr>\n",
       "      <th>4</th>\n",
       "      <td>Pixel Draw - Number Art Coloring Book</td>\n",
       "      <td>ART_AND_DESIGN</td>\n",
       "      <td>4.3</td>\n",
       "      <td>967</td>\n",
       "      <td>2.8</td>\n",
       "      <td>100000</td>\n",
       "      <td>Free</td>\n",
       "      <td>0.0</td>\n",
       "      <td>Everyone</td>\n",
       "      <td>Art &amp; Design;Creativity</td>\n",
       "      <td>June 20, 2018</td>\n",
       "      <td>1.1</td>\n",
       "      <td>4.4 and up</td>\n",
       "    </tr>\n",
       "  </tbody>\n",
       "</table>\n",
       "</div>"
      ],
      "text/plain": [
       "                                                 App        Category  Rating  \\\n",
       "0     Photo Editor & Candy Camera & Grid & ScrapBook  ART_AND_DESIGN     4.1   \n",
       "1                                Coloring book moana  ART_AND_DESIGN     3.9   \n",
       "2  U Launcher Lite – FREE Live Cool Themes, Hide ...  ART_AND_DESIGN     4.7   \n",
       "3                              Sketch - Draw & Paint  ART_AND_DESIGN     4.5   \n",
       "4              Pixel Draw - Number Art Coloring Book  ART_AND_DESIGN     4.3   \n",
       "\n",
       "   Reviews     Size  Installs  Type  Price Content Rating  \\\n",
       "0      159  19000.0     10000  Free    0.0       Everyone   \n",
       "1      967  14000.0    500000  Free    0.0       Everyone   \n",
       "2    87510      8.7   5000000  Free    0.0       Everyone   \n",
       "3   215644  25000.0  50000000  Free    0.0           Teen   \n",
       "4      967      2.8    100000  Free    0.0       Everyone   \n",
       "\n",
       "                      Genres      Last Updated         Current Ver  \\\n",
       "0               Art & Design   January 7, 2018               1.0.0   \n",
       "1  Art & Design;Pretend Play  January 15, 2018               2.0.0   \n",
       "2               Art & Design    August 1, 2018               1.2.4   \n",
       "3               Art & Design      June 8, 2018  Varies with device   \n",
       "4    Art & Design;Creativity     June 20, 2018                 1.1   \n",
       "\n",
       "    Android Ver  \n",
       "0  4.0.3 and up  \n",
       "1  4.0.3 and up  \n",
       "2  4.0.3 and up  \n",
       "3    4.2 and up  \n",
       "4    4.4 and up  "
      ]
     },
     "execution_count": 34,
     "metadata": {},
     "output_type": "execute_result"
    }
   ],
   "source": [
    "df1.head()\n"
   ]
  },
  {
   "cell_type": "code",
   "execution_count": 35,
   "id": "2d6c3cd7-ff9d-46a9-a9fb-8551304fa972",
   "metadata": {},
   "outputs": [
    {
     "data": {
      "text/html": [
       "<div>\n",
       "<style scoped>\n",
       "    .dataframe tbody tr th:only-of-type {\n",
       "        vertical-align: middle;\n",
       "    }\n",
       "\n",
       "    .dataframe tbody tr th {\n",
       "        vertical-align: top;\n",
       "    }\n",
       "\n",
       "    .dataframe thead th {\n",
       "        text-align: right;\n",
       "    }\n",
       "</style>\n",
       "<table border=\"1\" class=\"dataframe\">\n",
       "  <thead>\n",
       "    <tr style=\"text-align: right;\">\n",
       "      <th></th>\n",
       "      <th>App</th>\n",
       "      <th>Category</th>\n",
       "      <th>Rating</th>\n",
       "      <th>Reviews</th>\n",
       "      <th>Size</th>\n",
       "      <th>Installs</th>\n",
       "      <th>Type</th>\n",
       "      <th>Price</th>\n",
       "      <th>Content Rating</th>\n",
       "      <th>Genres</th>\n",
       "      <th>Last Updated</th>\n",
       "      <th>Current Ver</th>\n",
       "      <th>Android Ver</th>\n",
       "    </tr>\n",
       "  </thead>\n",
       "  <tbody>\n",
       "    <tr>\n",
       "      <th>15</th>\n",
       "      <td>Learn To Draw Kawaii Characters</td>\n",
       "      <td>ART_AND_DESIGN</td>\n",
       "      <td>3.2</td>\n",
       "      <td>55</td>\n",
       "      <td>2.7</td>\n",
       "      <td>5000</td>\n",
       "      <td>Free</td>\n",
       "      <td>0.00</td>\n",
       "      <td>Everyone</td>\n",
       "      <td>Art &amp; Design</td>\n",
       "      <td>June 6, 2018</td>\n",
       "      <td>NaN</td>\n",
       "      <td>4.2 and up</td>\n",
       "    </tr>\n",
       "    <tr>\n",
       "      <th>1553</th>\n",
       "      <td>Market Update Helper</td>\n",
       "      <td>LIBRARIES_AND_DEMO</td>\n",
       "      <td>4.1</td>\n",
       "      <td>20145</td>\n",
       "      <td>11.0</td>\n",
       "      <td>1000000</td>\n",
       "      <td>Free</td>\n",
       "      <td>0.00</td>\n",
       "      <td>Everyone</td>\n",
       "      <td>Libraries &amp; Demo</td>\n",
       "      <td>February 12, 2013</td>\n",
       "      <td>NaN</td>\n",
       "      <td>1.5 and up</td>\n",
       "    </tr>\n",
       "    <tr>\n",
       "      <th>6322</th>\n",
       "      <td>Virtual DJ Sound Mixer</td>\n",
       "      <td>TOOLS</td>\n",
       "      <td>4.2</td>\n",
       "      <td>4010</td>\n",
       "      <td>8.7</td>\n",
       "      <td>500000</td>\n",
       "      <td>Free</td>\n",
       "      <td>0.00</td>\n",
       "      <td>Everyone</td>\n",
       "      <td>Tools</td>\n",
       "      <td>May 10, 2017</td>\n",
       "      <td>NaN</td>\n",
       "      <td>4.0 and up</td>\n",
       "    </tr>\n",
       "    <tr>\n",
       "      <th>6803</th>\n",
       "      <td>BT Master</td>\n",
       "      <td>FAMILY</td>\n",
       "      <td>NaN</td>\n",
       "      <td>0</td>\n",
       "      <td>222.0</td>\n",
       "      <td>100</td>\n",
       "      <td>Free</td>\n",
       "      <td>0.00</td>\n",
       "      <td>Everyone</td>\n",
       "      <td>Education</td>\n",
       "      <td>November 6, 2016</td>\n",
       "      <td>NaN</td>\n",
       "      <td>1.6 and up</td>\n",
       "    </tr>\n",
       "    <tr>\n",
       "      <th>7333</th>\n",
       "      <td>Dots puzzle</td>\n",
       "      <td>FAMILY</td>\n",
       "      <td>4.0</td>\n",
       "      <td>179</td>\n",
       "      <td>14000.0</td>\n",
       "      <td>50000</td>\n",
       "      <td>Paid</td>\n",
       "      <td>0.99</td>\n",
       "      <td>Everyone</td>\n",
       "      <td>Puzzle</td>\n",
       "      <td>April 18, 2018</td>\n",
       "      <td>NaN</td>\n",
       "      <td>4.0 and up</td>\n",
       "    </tr>\n",
       "    <tr>\n",
       "      <th>7407</th>\n",
       "      <td>Calculate My IQ</td>\n",
       "      <td>FAMILY</td>\n",
       "      <td>NaN</td>\n",
       "      <td>44</td>\n",
       "      <td>7.2</td>\n",
       "      <td>10000</td>\n",
       "      <td>Free</td>\n",
       "      <td>0.00</td>\n",
       "      <td>Everyone</td>\n",
       "      <td>Entertainment</td>\n",
       "      <td>April 3, 2017</td>\n",
       "      <td>NaN</td>\n",
       "      <td>2.3 and up</td>\n",
       "    </tr>\n",
       "    <tr>\n",
       "      <th>7730</th>\n",
       "      <td>UFO-CQ</td>\n",
       "      <td>TOOLS</td>\n",
       "      <td>NaN</td>\n",
       "      <td>1</td>\n",
       "      <td>237.0</td>\n",
       "      <td>10</td>\n",
       "      <td>Paid</td>\n",
       "      <td>0.99</td>\n",
       "      <td>Everyone</td>\n",
       "      <td>Tools</td>\n",
       "      <td>July 4, 2016</td>\n",
       "      <td>NaN</td>\n",
       "      <td>2.0 and up</td>\n",
       "    </tr>\n",
       "    <tr>\n",
       "      <th>10342</th>\n",
       "      <td>La Fe de Jesus</td>\n",
       "      <td>BOOKS_AND_REFERENCE</td>\n",
       "      <td>NaN</td>\n",
       "      <td>8</td>\n",
       "      <td>658.0</td>\n",
       "      <td>1000</td>\n",
       "      <td>Free</td>\n",
       "      <td>0.00</td>\n",
       "      <td>Everyone</td>\n",
       "      <td>Books &amp; Reference</td>\n",
       "      <td>January 31, 2017</td>\n",
       "      <td>NaN</td>\n",
       "      <td>3.0 and up</td>\n",
       "    </tr>\n",
       "  </tbody>\n",
       "</table>\n",
       "</div>"
      ],
      "text/plain": [
       "                                   App             Category  Rating  Reviews  \\\n",
       "15     Learn To Draw Kawaii Characters       ART_AND_DESIGN     3.2       55   \n",
       "1553              Market Update Helper   LIBRARIES_AND_DEMO     4.1    20145   \n",
       "6322            Virtual DJ Sound Mixer                TOOLS     4.2     4010   \n",
       "6803                         BT Master               FAMILY     NaN        0   \n",
       "7333                       Dots puzzle               FAMILY     4.0      179   \n",
       "7407                   Calculate My IQ               FAMILY     NaN       44   \n",
       "7730                            UFO-CQ                TOOLS     NaN        1   \n",
       "10342                   La Fe de Jesus  BOOKS_AND_REFERENCE     NaN        8   \n",
       "\n",
       "          Size  Installs  Type  Price Content Rating             Genres  \\\n",
       "15         2.7      5000  Free   0.00       Everyone       Art & Design   \n",
       "1553      11.0   1000000  Free   0.00       Everyone   Libraries & Demo   \n",
       "6322       8.7    500000  Free   0.00       Everyone              Tools   \n",
       "6803     222.0       100  Free   0.00       Everyone          Education   \n",
       "7333   14000.0     50000  Paid   0.99       Everyone             Puzzle   \n",
       "7407       7.2     10000  Free   0.00       Everyone      Entertainment   \n",
       "7730     237.0        10  Paid   0.99       Everyone              Tools   \n",
       "10342    658.0      1000  Free   0.00       Everyone  Books & Reference   \n",
       "\n",
       "            Last Updated Current Ver Android Ver  \n",
       "15          June 6, 2018         NaN  4.2 and up  \n",
       "1553   February 12, 2013         NaN  1.5 and up  \n",
       "6322        May 10, 2017         NaN  4.0 and up  \n",
       "6803    November 6, 2016         NaN  1.6 and up  \n",
       "7333      April 18, 2018         NaN  4.0 and up  \n",
       "7407       April 3, 2017         NaN  2.3 and up  \n",
       "7730        July 4, 2016         NaN  2.0 and up  \n",
       "10342   January 31, 2017         NaN  3.0 and up  "
      ]
     },
     "execution_count": 35,
     "metadata": {},
     "output_type": "execute_result"
    }
   ],
   "source": [
    "df1[df1['Current Ver'].isnull()]"
   ]
  },
  {
   "cell_type": "code",
   "execution_count": 36,
   "id": "8fc87e18-f095-4199-9ec9-3c04995ada75",
   "metadata": {},
   "outputs": [],
   "source": [
    "df1['Current Ver']=df1['Current Ver'].replace('Varies with device',np.nan)"
   ]
  },
  {
   "cell_type": "code",
   "execution_count": 37,
   "id": "3b9bcccf-a135-4c5f-bbe2-48e3a31cfe8b",
   "metadata": {},
   "outputs": [
    {
     "data": {
      "text/plain": [
       "1467"
      ]
     },
     "execution_count": 37,
     "metadata": {},
     "output_type": "execute_result"
    }
   ],
   "source": [
    "df1['Current Ver'].isnull().sum()"
   ]
  },
  {
   "cell_type": "code",
   "execution_count": 38,
   "id": "804b1a08-9ce9-4cde-8398-ccf20d3e1502",
   "metadata": {},
   "outputs": [
    {
     "data": {
      "text/html": [
       "<div>\n",
       "<style scoped>\n",
       "    .dataframe tbody tr th:only-of-type {\n",
       "        vertical-align: middle;\n",
       "    }\n",
       "\n",
       "    .dataframe tbody tr th {\n",
       "        vertical-align: top;\n",
       "    }\n",
       "\n",
       "    .dataframe thead th {\n",
       "        text-align: right;\n",
       "    }\n",
       "</style>\n",
       "<table border=\"1\" class=\"dataframe\">\n",
       "  <thead>\n",
       "    <tr style=\"text-align: right;\">\n",
       "      <th></th>\n",
       "      <th>App</th>\n",
       "      <th>Category</th>\n",
       "      <th>Rating</th>\n",
       "      <th>Reviews</th>\n",
       "      <th>Size</th>\n",
       "      <th>Installs</th>\n",
       "      <th>Type</th>\n",
       "      <th>Price</th>\n",
       "      <th>Content Rating</th>\n",
       "      <th>Genres</th>\n",
       "      <th>Last Updated</th>\n",
       "      <th>Current Ver</th>\n",
       "      <th>Android Ver</th>\n",
       "    </tr>\n",
       "  </thead>\n",
       "  <tbody>\n",
       "    <tr>\n",
       "      <th>0</th>\n",
       "      <td>Photo Editor &amp; Candy Camera &amp; Grid &amp; ScrapBook</td>\n",
       "      <td>ART_AND_DESIGN</td>\n",
       "      <td>4.1</td>\n",
       "      <td>159</td>\n",
       "      <td>19000.0</td>\n",
       "      <td>10000</td>\n",
       "      <td>Free</td>\n",
       "      <td>0.0</td>\n",
       "      <td>Everyone</td>\n",
       "      <td>Art &amp; Design</td>\n",
       "      <td>January 7, 2018</td>\n",
       "      <td>1.0.0</td>\n",
       "      <td>4.0.3 and up</td>\n",
       "    </tr>\n",
       "    <tr>\n",
       "      <th>1</th>\n",
       "      <td>Coloring book moana</td>\n",
       "      <td>ART_AND_DESIGN</td>\n",
       "      <td>3.9</td>\n",
       "      <td>967</td>\n",
       "      <td>14000.0</td>\n",
       "      <td>500000</td>\n",
       "      <td>Free</td>\n",
       "      <td>0.0</td>\n",
       "      <td>Everyone</td>\n",
       "      <td>Art &amp; Design;Pretend Play</td>\n",
       "      <td>January 15, 2018</td>\n",
       "      <td>2.0.0</td>\n",
       "      <td>4.0.3 and up</td>\n",
       "    </tr>\n",
       "    <tr>\n",
       "      <th>2</th>\n",
       "      <td>U Launcher Lite – FREE Live Cool Themes, Hide ...</td>\n",
       "      <td>ART_AND_DESIGN</td>\n",
       "      <td>4.7</td>\n",
       "      <td>87510</td>\n",
       "      <td>8.7</td>\n",
       "      <td>5000000</td>\n",
       "      <td>Free</td>\n",
       "      <td>0.0</td>\n",
       "      <td>Everyone</td>\n",
       "      <td>Art &amp; Design</td>\n",
       "      <td>August 1, 2018</td>\n",
       "      <td>1.2.4</td>\n",
       "      <td>4.0.3 and up</td>\n",
       "    </tr>\n",
       "    <tr>\n",
       "      <th>3</th>\n",
       "      <td>Sketch - Draw &amp; Paint</td>\n",
       "      <td>ART_AND_DESIGN</td>\n",
       "      <td>4.5</td>\n",
       "      <td>215644</td>\n",
       "      <td>25000.0</td>\n",
       "      <td>50000000</td>\n",
       "      <td>Free</td>\n",
       "      <td>0.0</td>\n",
       "      <td>Teen</td>\n",
       "      <td>Art &amp; Design</td>\n",
       "      <td>June 8, 2018</td>\n",
       "      <td>NaN</td>\n",
       "      <td>4.2 and up</td>\n",
       "    </tr>\n",
       "    <tr>\n",
       "      <th>4</th>\n",
       "      <td>Pixel Draw - Number Art Coloring Book</td>\n",
       "      <td>ART_AND_DESIGN</td>\n",
       "      <td>4.3</td>\n",
       "      <td>967</td>\n",
       "      <td>2.8</td>\n",
       "      <td>100000</td>\n",
       "      <td>Free</td>\n",
       "      <td>0.0</td>\n",
       "      <td>Everyone</td>\n",
       "      <td>Art &amp; Design;Creativity</td>\n",
       "      <td>June 20, 2018</td>\n",
       "      <td>1.1</td>\n",
       "      <td>4.4 and up</td>\n",
       "    </tr>\n",
       "  </tbody>\n",
       "</table>\n",
       "</div>"
      ],
      "text/plain": [
       "                                                 App        Category  Rating  \\\n",
       "0     Photo Editor & Candy Camera & Grid & ScrapBook  ART_AND_DESIGN     4.1   \n",
       "1                                Coloring book moana  ART_AND_DESIGN     3.9   \n",
       "2  U Launcher Lite – FREE Live Cool Themes, Hide ...  ART_AND_DESIGN     4.7   \n",
       "3                              Sketch - Draw & Paint  ART_AND_DESIGN     4.5   \n",
       "4              Pixel Draw - Number Art Coloring Book  ART_AND_DESIGN     4.3   \n",
       "\n",
       "   Reviews     Size  Installs  Type  Price Content Rating  \\\n",
       "0      159  19000.0     10000  Free    0.0       Everyone   \n",
       "1      967  14000.0    500000  Free    0.0       Everyone   \n",
       "2    87510      8.7   5000000  Free    0.0       Everyone   \n",
       "3   215644  25000.0  50000000  Free    0.0           Teen   \n",
       "4      967      2.8    100000  Free    0.0       Everyone   \n",
       "\n",
       "                      Genres      Last Updated Current Ver   Android Ver  \n",
       "0               Art & Design   January 7, 2018       1.0.0  4.0.3 and up  \n",
       "1  Art & Design;Pretend Play  January 15, 2018       2.0.0  4.0.3 and up  \n",
       "2               Art & Design    August 1, 2018       1.2.4  4.0.3 and up  \n",
       "3               Art & Design      June 8, 2018         NaN    4.2 and up  \n",
       "4    Art & Design;Creativity     June 20, 2018         1.1    4.4 and up  "
      ]
     },
     "execution_count": 38,
     "metadata": {},
     "output_type": "execute_result"
    }
   ],
   "source": [
    "df1.head()"
   ]
  },
  {
   "cell_type": "code",
   "execution_count": 39,
   "id": "ef07f4f8-dcc4-41f9-8e91-c1ef9dd01cae",
   "metadata": {},
   "outputs": [
    {
     "data": {
      "text/plain": [
       "array(['January 7, 2018', 'January 15, 2018', 'August 1, 2018', ...,\n",
       "       'January 20, 2014', 'February 16, 2014', 'March 23, 2014'],\n",
       "      dtype=object)"
      ]
     },
     "execution_count": 39,
     "metadata": {},
     "output_type": "execute_result"
    }
   ],
   "source": [
    "df1['Last Updated'].unique()"
   ]
  },
  {
   "cell_type": "code",
   "execution_count": 40,
   "id": "5bdf403d-65c8-47ea-95eb-fcb3b6c0ec3b",
   "metadata": {},
   "outputs": [],
   "source": [
    "df1['Last Updated']=pd.to_datetime(df1['Last Updated'])"
   ]
  },
  {
   "cell_type": "code",
   "execution_count": 41,
   "id": "bb5977d4-311c-489d-b6bc-e21a9b7e8b4f",
   "metadata": {},
   "outputs": [],
   "source": [
    "df1['Day']=df1['Last Updated'].dt.day\n",
    "df1['month']=df1['Last Updated'].dt.month\n",
    "df1['year']=df1['Last Updated'].dt.year"
   ]
  },
  {
   "cell_type": "code",
   "execution_count": 42,
   "id": "dda4ab52-3703-4464-82af-803fb19131d9",
   "metadata": {},
   "outputs": [
    {
     "name": "stdout",
     "output_type": "stream",
     "text": [
      "<class 'pandas.core.frame.DataFrame'>\n",
      "Int64Index: 10840 entries, 0 to 10840\n",
      "Data columns (total 16 columns):\n",
      " #   Column          Non-Null Count  Dtype         \n",
      "---  ------          --------------  -----         \n",
      " 0   App             10840 non-null  object        \n",
      " 1   Category        10840 non-null  object        \n",
      " 2   Rating          9366 non-null   float64       \n",
      " 3   Reviews         10840 non-null  int64         \n",
      " 4   Size            9145 non-null   float64       \n",
      " 5   Installs        10840 non-null  int64         \n",
      " 6   Type            10839 non-null  object        \n",
      " 7   Price           10840 non-null  float64       \n",
      " 8   Content Rating  10840 non-null  object        \n",
      " 9   Genres          10840 non-null  object        \n",
      " 10  Last Updated    10840 non-null  datetime64[ns]\n",
      " 11  Current Ver     9373 non-null   object        \n",
      " 12  Android Ver     10838 non-null  object        \n",
      " 13  Day             10840 non-null  int64         \n",
      " 14  month           10840 non-null  int64         \n",
      " 15  year            10840 non-null  int64         \n",
      "dtypes: datetime64[ns](1), float64(3), int64(5), object(7)\n",
      "memory usage: 1.4+ MB\n"
     ]
    }
   ],
   "source": [
    "df1.info()"
   ]
  },
  {
   "cell_type": "code",
   "execution_count": 43,
   "id": "6f2e98c7-6bfd-43a5-8841-4ed9b51801df",
   "metadata": {},
   "outputs": [],
   "source": [
    "df1.to_csv('data/google_cleaned.csv')"
   ]
  },
  {
   "cell_type": "markdown",
   "id": "a37db1d8-ebe5-406e-85eb-83316ea130c9",
   "metadata": {},
   "source": [
    "# eda"
   ]
  },
  {
   "cell_type": "code",
   "execution_count": 44,
   "id": "e92c0c28-83df-4d6e-8e91-fee44816eb8a",
   "metadata": {},
   "outputs": [
    {
     "data": {
      "text/html": [
       "<div>\n",
       "<style scoped>\n",
       "    .dataframe tbody tr th:only-of-type {\n",
       "        vertical-align: middle;\n",
       "    }\n",
       "\n",
       "    .dataframe tbody tr th {\n",
       "        vertical-align: top;\n",
       "    }\n",
       "\n",
       "    .dataframe thead th {\n",
       "        text-align: right;\n",
       "    }\n",
       "</style>\n",
       "<table border=\"1\" class=\"dataframe\">\n",
       "  <thead>\n",
       "    <tr style=\"text-align: right;\">\n",
       "      <th></th>\n",
       "      <th>App</th>\n",
       "      <th>Category</th>\n",
       "      <th>Rating</th>\n",
       "      <th>Reviews</th>\n",
       "      <th>Size</th>\n",
       "      <th>Installs</th>\n",
       "      <th>Type</th>\n",
       "      <th>Price</th>\n",
       "      <th>Content Rating</th>\n",
       "      <th>Genres</th>\n",
       "      <th>Last Updated</th>\n",
       "      <th>Current Ver</th>\n",
       "      <th>Android Ver</th>\n",
       "      <th>Day</th>\n",
       "      <th>month</th>\n",
       "      <th>year</th>\n",
       "    </tr>\n",
       "  </thead>\n",
       "  <tbody>\n",
       "    <tr>\n",
       "      <th>0</th>\n",
       "      <td>Photo Editor &amp; Candy Camera &amp; Grid &amp; ScrapBook</td>\n",
       "      <td>ART_AND_DESIGN</td>\n",
       "      <td>4.1</td>\n",
       "      <td>159</td>\n",
       "      <td>19000.0</td>\n",
       "      <td>10000</td>\n",
       "      <td>Free</td>\n",
       "      <td>0.0</td>\n",
       "      <td>Everyone</td>\n",
       "      <td>Art &amp; Design</td>\n",
       "      <td>2018-01-07</td>\n",
       "      <td>1.0.0</td>\n",
       "      <td>4.0.3 and up</td>\n",
       "      <td>7</td>\n",
       "      <td>1</td>\n",
       "      <td>2018</td>\n",
       "    </tr>\n",
       "    <tr>\n",
       "      <th>1</th>\n",
       "      <td>Coloring book moana</td>\n",
       "      <td>ART_AND_DESIGN</td>\n",
       "      <td>3.9</td>\n",
       "      <td>967</td>\n",
       "      <td>14000.0</td>\n",
       "      <td>500000</td>\n",
       "      <td>Free</td>\n",
       "      <td>0.0</td>\n",
       "      <td>Everyone</td>\n",
       "      <td>Art &amp; Design;Pretend Play</td>\n",
       "      <td>2018-01-15</td>\n",
       "      <td>2.0.0</td>\n",
       "      <td>4.0.3 and up</td>\n",
       "      <td>15</td>\n",
       "      <td>1</td>\n",
       "      <td>2018</td>\n",
       "    </tr>\n",
       "    <tr>\n",
       "      <th>2</th>\n",
       "      <td>U Launcher Lite – FREE Live Cool Themes, Hide ...</td>\n",
       "      <td>ART_AND_DESIGN</td>\n",
       "      <td>4.7</td>\n",
       "      <td>87510</td>\n",
       "      <td>8.7</td>\n",
       "      <td>5000000</td>\n",
       "      <td>Free</td>\n",
       "      <td>0.0</td>\n",
       "      <td>Everyone</td>\n",
       "      <td>Art &amp; Design</td>\n",
       "      <td>2018-08-01</td>\n",
       "      <td>1.2.4</td>\n",
       "      <td>4.0.3 and up</td>\n",
       "      <td>1</td>\n",
       "      <td>8</td>\n",
       "      <td>2018</td>\n",
       "    </tr>\n",
       "    <tr>\n",
       "      <th>3</th>\n",
       "      <td>Sketch - Draw &amp; Paint</td>\n",
       "      <td>ART_AND_DESIGN</td>\n",
       "      <td>4.5</td>\n",
       "      <td>215644</td>\n",
       "      <td>25000.0</td>\n",
       "      <td>50000000</td>\n",
       "      <td>Free</td>\n",
       "      <td>0.0</td>\n",
       "      <td>Teen</td>\n",
       "      <td>Art &amp; Design</td>\n",
       "      <td>2018-06-08</td>\n",
       "      <td>NaN</td>\n",
       "      <td>4.2 and up</td>\n",
       "      <td>8</td>\n",
       "      <td>6</td>\n",
       "      <td>2018</td>\n",
       "    </tr>\n",
       "    <tr>\n",
       "      <th>4</th>\n",
       "      <td>Pixel Draw - Number Art Coloring Book</td>\n",
       "      <td>ART_AND_DESIGN</td>\n",
       "      <td>4.3</td>\n",
       "      <td>967</td>\n",
       "      <td>2.8</td>\n",
       "      <td>100000</td>\n",
       "      <td>Free</td>\n",
       "      <td>0.0</td>\n",
       "      <td>Everyone</td>\n",
       "      <td>Art &amp; Design;Creativity</td>\n",
       "      <td>2018-06-20</td>\n",
       "      <td>1.1</td>\n",
       "      <td>4.4 and up</td>\n",
       "      <td>20</td>\n",
       "      <td>6</td>\n",
       "      <td>2018</td>\n",
       "    </tr>\n",
       "  </tbody>\n",
       "</table>\n",
       "</div>"
      ],
      "text/plain": [
       "                                                 App        Category  Rating  \\\n",
       "0     Photo Editor & Candy Camera & Grid & ScrapBook  ART_AND_DESIGN     4.1   \n",
       "1                                Coloring book moana  ART_AND_DESIGN     3.9   \n",
       "2  U Launcher Lite – FREE Live Cool Themes, Hide ...  ART_AND_DESIGN     4.7   \n",
       "3                              Sketch - Draw & Paint  ART_AND_DESIGN     4.5   \n",
       "4              Pixel Draw - Number Art Coloring Book  ART_AND_DESIGN     4.3   \n",
       "\n",
       "   Reviews     Size  Installs  Type  Price Content Rating  \\\n",
       "0      159  19000.0     10000  Free    0.0       Everyone   \n",
       "1      967  14000.0    500000  Free    0.0       Everyone   \n",
       "2    87510      8.7   5000000  Free    0.0       Everyone   \n",
       "3   215644  25000.0  50000000  Free    0.0           Teen   \n",
       "4      967      2.8    100000  Free    0.0       Everyone   \n",
       "\n",
       "                      Genres Last Updated Current Ver   Android Ver  Day  \\\n",
       "0               Art & Design   2018-01-07       1.0.0  4.0.3 and up    7   \n",
       "1  Art & Design;Pretend Play   2018-01-15       2.0.0  4.0.3 and up   15   \n",
       "2               Art & Design   2018-08-01       1.2.4  4.0.3 and up    1   \n",
       "3               Art & Design   2018-06-08         NaN    4.2 and up    8   \n",
       "4    Art & Design;Creativity   2018-06-20         1.1    4.4 and up   20   \n",
       "\n",
       "   month  year  \n",
       "0      1  2018  \n",
       "1      1  2018  \n",
       "2      8  2018  \n",
       "3      6  2018  \n",
       "4      6  2018  "
      ]
     },
     "execution_count": 44,
     "metadata": {},
     "output_type": "execute_result"
    }
   ],
   "source": [
    "df1.head()"
   ]
  },
  {
   "cell_type": "code",
   "execution_count": 45,
   "id": "b28c2882-d02d-4c3d-b91b-eeb9e133a3cd",
   "metadata": {},
   "outputs": [
    {
     "data": {
      "text/plain": [
       "(1181, 16)"
      ]
     },
     "execution_count": 45,
     "metadata": {},
     "output_type": "execute_result"
    }
   ],
   "source": [
    "df1[df1.duplicated('App')].shape"
   ]
  },
  {
   "cell_type": "markdown",
   "id": "adaac6ff-8c5d-456b-b877-96b3ffa34920",
   "metadata": {},
   "source": [
    "## Observation\n",
    "## The dataset has duplicate records"
   ]
  },
  {
   "cell_type": "code",
   "execution_count": 46,
   "id": "19d058af-5ae6-4f7b-b65f-54298c4ba0bc",
   "metadata": {},
   "outputs": [],
   "source": [
    "df1=df1.drop_duplicates(subset=['App'],keep='first')"
   ]
  },
  {
   "cell_type": "markdown",
   "id": "a6ca2771-5d2d-4bd2-9d88-663b2c51d287",
   "metadata": {},
   "source": [
    "# observations and insights"
   ]
  },
  {
   "cell_type": "markdown",
   "id": "e3e469b6-7fb7-42c4-9cd0-bda2ba60c94e",
   "metadata": {},
   "source": [
    "# data set has a duplicate records"
   ]
  },
  {
   "cell_type": "code",
   "execution_count": 47,
   "id": "34589e25-e2e5-4e5c-b147-d541af5e7af2",
   "metadata": {},
   "outputs": [],
   "source": [
    "numerical_categories=[ feature for feature in df1.columns if df1[feature].dtype != 'O']\n",
    "categorical_categories=[ feature for feature in df1.columns if df1[feature].dtype == 'O']"
   ]
  },
  {
   "cell_type": "code",
   "execution_count": 48,
   "id": "ce6d717e-0f8c-47a7-b46c-9025d19de0ae",
   "metadata": {},
   "outputs": [
    {
     "name": "stdout",
     "output_type": "stream",
     "text": [
      "we have 9 numerical features:['Rating', 'Reviews', 'Size', 'Installs', 'Price', 'Last Updated', 'Day', 'month', 'year']\n",
      "we have 7 categorical features:['App', 'Category', 'Type', 'Content Rating', 'Genres', 'Current Ver', 'Android Ver']\n"
     ]
    }
   ],
   "source": [
    "print('we have {} numerical features:{}'.format(len(numerical_categories),numerical_categories))\n",
    "print('we have {} categorical features:{}'.format(len(categorical_categories),categorical_categories))"
   ]
  },
  {
   "cell_type": "code",
   "execution_count": 49,
   "id": "2ed71727-aa4b-4d7e-ac8e-9eba06b31264",
   "metadata": {},
   "outputs": [
    {
     "name": "stdout",
     "output_type": "stream",
     "text": [
      "ROBLOX                                                0.083018\n",
      "CBS Sports App - Scores, News, Stats & Watch Live     0.073794\n",
      "ESPN                                                  0.064570\n",
      "Duolingo: Learn Languages Free                        0.064570\n",
      "Candy Crush Saga                                      0.064570\n",
      "                                                        ...   \n",
      "Meet U - Get Friends for Snapchat, Kik & Instagram    0.009224\n",
      "U-Report                                              0.009224\n",
      "U of I Community Credit Union                         0.009224\n",
      "Waiting For U Launcher Theme                          0.009224\n",
      "iHoroscope - 2018 Daily Horoscope & Astrology         0.009224\n",
      "Name: App, Length: 9660, dtype: float64\n",
      "------------\n",
      "FAMILY                 18.190204\n",
      "GAME                   10.552532\n",
      "TOOLS                   7.776035\n",
      "MEDICAL                 4.270824\n",
      "BUSINESS                4.243151\n",
      "PRODUCTIVITY            3.911078\n",
      "PERSONALIZATION         3.615903\n",
      "COMMUNICATION           3.569781\n",
      "SPORTS                  3.542109\n",
      "LIFESTYLE               3.523660\n",
      "FINANCE                 3.376072\n",
      "HEALTH_AND_FITNESS      3.145466\n",
      "PHOTOGRAPHY             3.090121\n",
      "SOCIAL                  2.721151\n",
      "NEWS_AND_MAGAZINES      2.610460\n",
      "SHOPPING                2.398303\n",
      "TRAVEL_AND_LOCAL        2.379854\n",
      "DATING                  2.158472\n",
      "BOOKS_AND_REFERENCE     2.130800\n",
      "VIDEO_PLAYERS           1.614242\n",
      "EDUCATION               1.438982\n",
      "ENTERTAINMENT           1.374412\n",
      "MAPS_AND_NAVIGATION     1.263721\n",
      "FOOD_AND_DRINK          1.171479\n",
      "HOUSE_AND_HOME          0.811733\n",
      "LIBRARIES_AND_DEMO      0.784061\n",
      "AUTO_AND_VEHICLES       0.784061\n",
      "WEATHER                 0.756388\n",
      "ART_AND_DESIGN          0.599576\n",
      "EVENTS                  0.590351\n",
      "PARENTING               0.553454\n",
      "COMICS                  0.553454\n",
      "BEAUTY                  0.488885\n",
      "1.9                     0.009224\n",
      "Name: Category, dtype: float64\n",
      "------------\n",
      "Free    92.610701\n",
      "Paid     7.380074\n",
      "0        0.009225\n",
      "Name: Type, dtype: float64\n",
      "------------\n",
      "Everyone           80.387454\n",
      "Teen               11.143911\n",
      "Mature 17+          4.603321\n",
      "Everyone 10+        3.819188\n",
      "Adults only 18+     0.027675\n",
      "Unrated             0.018450\n",
      "Name: Content Rating, dtype: float64\n",
      "------------\n",
      "Tools                     7.766811\n",
      "Entertainment             5.746702\n",
      "Education                 5.064108\n",
      "Medical                   4.270824\n",
      "Business                  4.243151\n",
      "                            ...   \n",
      "Arcade;Pretend Play       0.009224\n",
      "Card;Brain Games          0.009224\n",
      "Lifestyle;Pretend Play    0.009224\n",
      "Comics;Creativity         0.009224\n",
      "Strategy;Creativity       0.009224\n",
      "Name: Genres, Length: 120, dtype: float64\n",
      "------------\n",
      "Varies with device    13.468107\n",
      "1.0                    7.467922\n",
      "1.1                    2.436998\n",
      "1.2                    1.643127\n",
      "2.0                    1.393889\n",
      "                        ...    \n",
      "1.0.17.3905            0.009231\n",
      "15.1.2                 0.009231\n",
      "4.94.19                0.009231\n",
      "1.1.11.11              0.009231\n",
      "2.0.148.0              0.009231\n",
      "Name: Current Ver, Length: 2832, dtype: float64\n",
      "------------\n",
      "4.1 and up            22.614874\n",
      "4.0.3 and up          13.849419\n",
      "4.0 and up            12.686843\n",
      "Varies with device    12.566894\n",
      "4.4 and up             9.042259\n",
      "2.3 and up             6.015870\n",
      "5.0 and up             5.545304\n",
      "4.2 and up             3.635357\n",
      "2.3.3 and up           2.592729\n",
      "2.2 and up             2.251338\n",
      "4.3 and up             2.242111\n",
      "3.0 and up             2.223658\n",
      "2.1 and up             1.236390\n",
      "1.6 and up             1.070308\n",
      "6.0 and up             0.553608\n",
      "7.0 and up             0.387525\n",
      "3.2 and up             0.332165\n",
      "2.0 and up             0.295257\n",
      "5.1 and up             0.221443\n",
      "1.5 and up             0.184536\n",
      "4.4W and up            0.110722\n",
      "3.1 and up             0.092268\n",
      "2.0.1 and up           0.064588\n",
      "8.0 and up             0.055361\n",
      "7.1 and up             0.027680\n",
      "4.0.3 - 7.1.1          0.018454\n",
      "5.0 - 8.0              0.018454\n",
      "1.0 and up             0.018454\n",
      "7.0 - 7.1.1            0.009227\n",
      "4.1 - 7.1.1            0.009227\n",
      "5.0 - 6.0              0.009227\n",
      "2.2 - 7.1.1            0.009227\n",
      "5.0 - 7.1.1            0.009227\n",
      "Name: Android Ver, dtype: float64\n",
      "------------\n"
     ]
    }
   ],
   "source": [
    "for col in categorical_categories:\n",
    "    print(df[col].value_counts(normalize=True)*100)\n",
    "    print('------------')"
   ]
  },
  {
   "cell_type": "code",
   "execution_count": 50,
   "id": "e18928d9-288d-4643-b0e4-863f79c08e94",
   "metadata": {},
   "outputs": [
    {
     "data": {
      "image/png": "[encoded data removed]",
      "text/plain": [
       "<Figure size 2000x1500 with 9 Axes>"
      ]
     },
     "metadata": {},
     "output_type": "display_data"
    }
   ],
   "source": [
    "## propotion of ci=ount data on numerical coumns\n",
    "plt.figure(figsize=(20,15))\n",
    "plt.suptitle('univariate analysis of numerical features ', fontsize=20,fontweight='bold',alpha=0.8,y=1.) \n",
    "for i in range(0,len(numerical_categories)):\n",
    "    plt.subplot(5,3,i+1)\n",
    "    sns.kdeplot(x=df1[numerical_categories[i]],shade=True,color='r')\n",
    "    plt.xlabel(numerical_categories[i])\n",
    "    plt.tight_layout()"
   ]
  },
  {
   "cell_type": "markdown",
   "id": "b03bd0c4-cffc-481a-8ffc-c2555e921a10",
   "metadata": {},
   "source": [
    "## obseravtions and insights \n",
    "## rating and years is left skewed and installs price and reviews are right skewed"
   ]
  },
  {
   "cell_type": "code",
   "execution_count": 51,
   "id": "c655af11-a41c-4560-9ab9-7df887b55117",
   "metadata": {},
   "outputs": [
    {
     "data": {
      "image/png": "[encoded data removed]",
      "text/plain": [
       "<Figure size 2000x1500 with 2 Axes>"
      ]
     },
     "metadata": {},
     "output_type": "display_data"
    }
   ],
   "source": [
    "# categortical columns\n",
    "plt.figure(figsize=(20,15))\n",
    "plt.suptitle('univariate analysis of categoroical Features ',fontsize=20,fontweight='bold',alpha=0.8,y=1.)\n",
    "category=['Type','Content Rating']\n",
    "for i in range(0,len(category)):\n",
    "    plt.subplot(2,2,i+1)\n",
    "    sns.countplot(x=df1[category[i]],palette='Set2')\n",
    "    plt.xlabel(category[i])\n",
    "    plt.xticks(rotation=45)\n",
    "    plt.tight_layout()"
   ]
  },
  {
   "cell_type": "markdown",
   "id": "b0367c2e-e785-4e4f-ac3f-3234e115699a",
   "metadata": {},
   "source": [
    "## Observations\n",
    "\n",
    "## 1. There are more kinds of apps in playstore which are under category of family, games & tools\n",
    "### 2. Beatuty,comics,arts and weather kinds of apps are very less in playstore"
   ]
  },
  {
   "cell_type": "code",
   "execution_count": 52,
   "id": "c888cd38-d0a2-4ae3-93ce-93c6cf0a381c",
   "metadata": {},
   "outputs": [],
   "source": [
    "## Top 10 App Categories\n",
    "category = pd.DataFrame(df1['Category'].value_counts())        #Dataframe of apps on the basis of category\n",
    "category.rename(columns = {'Category':'Count'},inplace=True)"
   ]
  },
  {
   "cell_type": "code",
   "execution_count": 53,
   "id": "c3ab6970-0f68-4757-a5d2-8e266007466f",
   "metadata": {},
   "outputs": [
    {
     "data": {
      "image/png": "[encoded data removed]",
      "text/plain": [
       "<Figure size 1500x600 with 1 Axes>"
      ]
     },
     "metadata": {},
     "output_type": "display_data"
    }
   ],
   "source": [
    "## top 10 app\n",
    "plt.figure(figsize=(15,6))\n",
    "sns.barplot(x=category.index[:10], y ='Count',data = category[:10],palette='hls')\n",
    "plt.title('Top 10 App categories')\n",
    "plt.xticks(rotation=90)\n",
    "plt.show()"
   ]
  },
  {
   "cell_type": "markdown",
   "id": "6b22bd3f-209c-4264-a62e-8d2f8cab10fc",
   "metadata": {},
   "source": [
    "## Insights\n",
    "## 1. Family category has the most number of apps with 18% of apps belonging to it, followed by Games category which has 11% of the apps.\n",
    "## 2. Least number of apps belong to the Beauty category with less than 1% of the total apps belonging to it."
   ]
  },
  {
   "cell_type": "code",
   "execution_count": 54,
   "id": "e0181644-3463-48fc-878b-5fc5b254b177",
   "metadata": {},
   "outputs": [
    {
     "data": {
      "text/plain": [
       "Text(0.5, 1.0, 'Most Popular Categories in Play Store')"
      ]
     },
     "execution_count": 54,
     "metadata": {},
     "output_type": "execute_result"
    },
    {
     "data": {
      "image/png": "[encoded data removed]",
      "text/plain": [
       "<Figure size 1400x1000 with 1 Axes>"
      ]
     },
     "metadata": {},
     "output_type": "display_data"
    }
   ],
   "source": [
    "df_cat_installs = df1.groupby(['Category'])['Installs'].sum().sort_values(ascending = False).reset_index()\n",
    "df_cat_installs.Installs = df_cat_installs.Installs/1000000000# converting into billions\n",
    "df2 = df_cat_installs.head(10)\n",
    "plt.figure(figsize = (14,10))\n",
    "sns.set_context(\"talk\")\n",
    "sns.set_style(\"darkgrid\")\n",
    "\n",
    "ax = sns.barplot(x = 'Installs' , y = 'Category' , data = df2 )\n",
    "ax.set_xlabel('No. of Installations in Billions')\n",
    "ax.set_ylabel('')\n",
    "ax.set_title(\"Most Popular Categories in Play Store\", size = 20)"
   ]
  },
  {
   "cell_type": "code",
   "execution_count": 55,
   "id": "976e0834-9491-42f7-b568-25c8626dd95a",
   "metadata": {},
   "outputs": [
    {
     "name": "stdout",
     "output_type": "stream",
     "text": [
      "Number of 5 rated apps 271\n"
     ]
    },
    {
     "data": {
      "text/html": [
       "<div>\n",
       "<style scoped>\n",
       "    .dataframe tbody tr th:only-of-type {\n",
       "        vertical-align: middle;\n",
       "    }\n",
       "\n",
       "    .dataframe tbody tr th {\n",
       "        vertical-align: top;\n",
       "    }\n",
       "\n",
       "    .dataframe thead th {\n",
       "        text-align: right;\n",
       "    }\n",
       "</style>\n",
       "<table border=\"1\" class=\"dataframe\">\n",
       "  <thead>\n",
       "    <tr style=\"text-align: right;\">\n",
       "      <th></th>\n",
       "      <th>Category</th>\n",
       "      <th>Installs</th>\n",
       "      <th>App</th>\n",
       "      <th>Rating</th>\n",
       "    </tr>\n",
       "  </thead>\n",
       "  <tbody>\n",
       "    <tr>\n",
       "      <th>0</th>\n",
       "      <td>FAMILY</td>\n",
       "      <td>1000</td>\n",
       "      <td>CS &amp; IT Interview Questions</td>\n",
       "      <td>5.0</td>\n",
       "    </tr>\n",
       "  </tbody>\n",
       "</table>\n",
       "</div>"
      ],
      "text/plain": [
       "  Category  Installs                          App  Rating\n",
       "0   FAMILY      1000  CS & IT Interview Questions     5.0"
      ]
     },
     "execution_count": 55,
     "metadata": {},
     "output_type": "execute_result"
    }
   ],
   "source": [
    "rating = df1.groupby(['Category','Installs', 'App'])['Rating'].sum().sort_values(ascending = False).reset_index()\n",
    "\n",
    "toprating_apps = rating[rating.Rating == 5.0]\n",
    "print(\"Number of 5 rated apps\",toprating_apps.shape[0])\n",
    "toprating_apps.head(1)"
   ]
  },
  {
   "cell_type": "markdown",
   "id": "681dc015-1c60-4649-afdc-3a745d261eb9",
   "metadata": {},
   "source": [
    "## Result\n",
    "## There are 271 five rated apps on Google Play store\n",
    "## Top most is 'CT Brain Interpretation' from 'Family' Category"
   ]
  },
  {
   "cell_type": "code",
   "execution_count": null,
   "id": "9d7190c5-2dd9-4f1c-a119-8d73b8745f17",
   "metadata": {},
   "outputs": [],
   "source": []
  },
  {
   "cell_type": "code",
   "execution_count": null,
   "id": "834124f2-a887-4da2-9695-3d2b671c79e2",
   "metadata": {},
   "outputs": [],
   "source": []
  },
  {
   "cell_type": "code",
   "execution_count": null,
   "id": "6b3c4982-2f3c-4262-8453-1b210bdcdac5",
   "metadata": {},
   "outputs": [],
   "source": []
  }
 ],
 "metadata": {
  "kernelspec": {
   "display_name": "Python 3 (ipykernel)",
   "language": "python",
   "name": "python3"
  },
  "language_info": {
   "codemirror_mode": {
    "name": "ipython",
    "version": 3
   },
   "file_extension": ".py",
   "mimetype": "text/x-python",
   "name": "python",
   "nbconvert_exporter": "python",
   "pygments_lexer": "ipython3",
   "version": "3.10.8"
  }
 },
 "nbformat": 4,
 "nbformat_minor": 5
}
